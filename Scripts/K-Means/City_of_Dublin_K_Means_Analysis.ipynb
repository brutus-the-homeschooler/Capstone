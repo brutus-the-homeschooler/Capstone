{
  "nbformat": 4,
  "nbformat_minor": 0,
  "metadata": {
    "colab": {
      "provenance": []
    },
    "kernelspec": {
      "name": "python3",
      "display_name": "Python 3"
    },
    "language_info": {
      "name": "python"
    }
  },
  "cells": [
    {
      "cell_type": "markdown",
      "source": [
        "### Import Step"
      ],
      "metadata": {
        "id": "d63IT9H6m3Bn"
      }
    },
    {
      "cell_type": "code",
      "execution_count": 1,
      "metadata": {
        "id": "9O6kFshTVMtW"
      },
      "outputs": [],
      "source": [
        "import requests\n",
        "import sqlite3\n",
        "import pandas as pd\n",
        "\n",
        "# URL of the .db file hosted on GitHub\n",
        "db_url = \"https://raw.githubusercontent.com/brutus-the-homeschooler/Capstone/main/Database/acsse_2022.db\"\n",
        "\n",
        "# Download the .db file\n",
        "response = requests.get(db_url)\n",
        "\n",
        "# Save the .db file locally\n",
        "with open(\"acsse_2022.db\", \"wb\") as db_file:\n",
        "    db_file.write(response.content)\n",
        "\n",
        "# Connect to the SQLite database\n",
        "conn = sqlite3.connect('acsse_2022.db')\n",
        "\n",
        "# Query the 'census_data' table\n",
        "census_data_df = pd.read_sql_query(\"SELECT * FROM census_data\", conn)\n",
        "\n",
        "# Query the 'place_dictionary' table\n",
        "place_dict_df = pd.read_sql_query(\"SELECT * FROM place_dictionary\", conn)\n",
        "\n",
        "# Query the 'state_dictionary' table\n",
        "#state_dict_df = pd.read_sql_query(\"SELECT * FROM state_dictionary\", conn)\n",
        "\n",
        "# Query the 'variable_dictionary' table\n",
        "#variable_dict_df = pd.read_sql_query(\"SELECT * FROM variable_dictionary\", conn)\n",
        "\n",
        "# Close the connection\n",
        "conn.close()"
      ]
    },
    {
      "cell_type": "markdown",
      "source": [
        "### Filter Variables"
      ],
      "metadata": {
        "id": "tV4aYG5lm7Nc"
      }
    },
    {
      "cell_type": "markdown",
      "source": [
        "Based upon prior analysis, these 19 variables have been selected as reliable and interesting to study for the basis of this analysis."
      ],
      "metadata": {
        "id": "edafQ5bCm9nh"
      }
    },
    {
      "cell_type": "code",
      "source": [
        "# Define filter variables for estimates (ending with 'E')\n",
        "filter_variables = [\n",
        "    \"K200101_001E\", \"K200101_002E\", \"K200101_003E\", \"K200201_002E\", \"K200301_002E\",\n",
        "    \"K200501_002E\", \"K200801_002E\", \"K200901_003E\", \"K201401_002E\", \"K201501_007E\",\n",
        "    \"K201501_008E\", \"K201601_002E\", \"K201702_006E\", \"K202101_006E\", \"K202301_004E\",\n",
        "    \"K202301_007E\", \"K202502_002E\", \"K202505_004E\", \"K202701_006E\"\n",
        "]"
      ],
      "metadata": {
        "id": "MOzUG54nVO7k"
      },
      "execution_count": 94,
      "outputs": []
    },
    {
      "cell_type": "markdown",
      "source": [
        "### Find reliable places"
      ],
      "metadata": {
        "id": "pV3zJ1ZJnI_e"
      }
    },
    {
      "cell_type": "markdown",
      "source": [
        "This code block takes the variables listed above and calculates the coefficient of variation based on the measurement value and the measurement of error, both of which are provided within the dataset."
      ],
      "metadata": {
        "id": "z4uzukucnQYV"
      }
    },
    {
      "cell_type": "code",
      "source": [
        "# Step 1: Find columns in census_data_df that match filter_variables for 'E' and their corresponding 'M'\n",
        "estimate_cols = [col for col in census_data_df.columns if col in filter_variables]\n",
        "moe_cols = [col[:-1] + 'M' for col in estimate_cols]\n",
        "\n",
        "# Step 2: Calculate all CVs at once and store in new columns\n",
        "for est_col, moe_col in zip(estimate_cols, moe_cols):\n",
        "    if moe_col in census_data_df.columns:\n",
        "        var_base = est_col[:-1]\n",
        "        # Calculate CV for each row and add it as a separate column\n",
        "        census_data_df[f'{var_base}_CV'] = (abs(census_data_df[moe_col]) / (1.645 * census_data_df[est_col])) * 100\n",
        "\n",
        "# Step 3: Select CV columns and count how many have CV < 15 for each place-state pair\n",
        "cv_columns = [col for col in census_data_df.columns if col.endswith('_CV')]\n",
        "cv_data = census_data_df[['place', 'state'] + cv_columns].copy()\n",
        "\n",
        "# Step 4: Group by 'place' and 'state' and count how many variables have a CV < 15 for each pair\n",
        "cv_counts = (\n",
        "    cv_data.melt(id_vars=['place', 'state'], value_vars=cv_columns, var_name='Variable', value_name='CV')\n",
        "    .query('CV < 15')\n",
        "    .groupby(['place', 'state'])\n",
        "    .size()\n",
        "    .reset_index(name='Count')\n",
        ")\n",
        "\n",
        "# Filter to rows where count of variables with CV < 15 is greater than 18\n",
        "filtered_result_df = cv_counts[cv_counts['Count'] > 18]\n",
        "\n",
        "# Step 5: Filter census_data_df based on filtered_result_df and select only the desired columns\n",
        "filtered_census_data_df = census_data_df.merge(\n",
        "    filtered_result_df[['place', 'state']].drop_duplicates(),\n",
        "    on=['place', 'state'],\n",
        "    how='inner'\n",
        ")[['place', 'state'] + filter_variables]"
      ],
      "metadata": {
        "id": "d3Kx8xGtVU3F"
      },
      "execution_count": 95,
      "outputs": []
    },
    {
      "cell_type": "markdown",
      "source": [
        "### Make a backup just in case"
      ],
      "metadata": {
        "id": "R_92kV40nxVB"
      }
    },
    {
      "cell_type": "code",
      "source": [
        "data = filtered_census_data_df.copy()"
      ],
      "metadata": {
        "id": "rE95WttIXfCj"
      },
      "execution_count": 15,
      "outputs": []
    },
    {
      "cell_type": "markdown",
      "source": [
        "### Scale the data"
      ],
      "metadata": {
        "id": "kryDVRo8nvhS"
      }
    },
    {
      "cell_type": "code",
      "source": [
        "from sklearn.preprocessing import StandardScaler\n",
        "\n",
        "# Identify columns ending with 'E' for scaling\n",
        "columns_to_scale = [col for col in data.columns if col.endswith('E')]\n",
        "\n",
        "# Separate the identifier columns (place and state) and the columns to scale\n",
        "data_identifiers = data[['place', 'state']]\n",
        "data_to_scale = data[columns_to_scale]\n",
        "\n",
        "# Scale the data\n",
        "scaler = StandardScaler()\n",
        "data_scaled_df = pd.DataFrame(scaler.fit_transform(data_to_scale), columns=columns_to_scale, index=data.index)\n",
        "\n",
        "# Combine scaled columns with the identifiers (place and state)\n",
        "data_final = pd.concat([data_identifiers, data_scaled_df], axis=1)"
      ],
      "metadata": {
        "id": "bCqQrsdSXZ2H"
      },
      "execution_count": 96,
      "outputs": []
    },
    {
      "cell_type": "markdown",
      "source": [
        "### Find optimal # for k"
      ],
      "metadata": {
        "id": "MbMoM5UKryd4"
      }
    },
    {
      "cell_type": "code",
      "source": [
        "from sklearn.cluster import KMeans\n",
        "import matplotlib.pyplot as plt\n",
        "\n",
        "# Define range for number of clusters to test\n",
        "K_range = range(1, 30)\n",
        "\n",
        "# Calculate inertia for each k in the range\n",
        "inertia = [KMeans(n_clusters=k, random_state=0).fit(data_scaled_df).inertia_ for k in K_range]\n",
        "\n",
        "# Plot the Elbow Curve\n",
        "plt.plot(K_range, inertia, marker='o')\n",
        "plt.xlabel('Number of clusters (k)')\n",
        "plt.ylabel('Inertia')\n",
        "plt.title('Elbow Method for Optimal k')\n",
        "plt.show()"
      ],
      "metadata": {
        "colab": {
          "base_uri": "https://localhost:8080/",
          "height": 472
        },
        "id": "6V99BSzlXohN",
        "outputId": "617f7950-7624-4f58-a435-67669e96044d"
      },
      "execution_count": 98,
      "outputs": [
        {
          "output_type": "display_data",
          "data": {
            "text/plain": [
              "<Figure size 640x480 with 1 Axes>"
            ],
            "image/png": "[encoded data removed]"
          },
          "metadata": {}
        }
      ]
    },
    {
      "cell_type": "markdown",
      "source": [
        "We see the elbow starts between 8-12."
      ],
      "metadata": {
        "id": "7JNxMyJGr7dO"
      }
    },
    {
      "cell_type": "code",
      "source": [
        "from sklearn.metrics import silhouette_score\n",
        "\n",
        "# Define range for number of clusters to test\n",
        "K_range = range(2, 30)\n",
        "\n",
        "# Calculate silhouette scores for each k in the range\n",
        "silhouette_scores = [\n",
        "    silhouette_score(data_scaled_df, KMeans(n_clusters=k, random_state=0).fit_predict(data_scaled_df))\n",
        "    for k in K_range\n",
        "]\n",
        "\n",
        "# Plot silhouette scores\n",
        "plt.plot(K_range, silhouette_scores, marker='o')\n",
        "plt.xlabel('Number of clusters (k)')\n",
        "plt.ylabel('Silhouette Score')\n",
        "plt.title('Silhouette Analysis for Optimal k')\n",
        "plt.show()\n"
      ],
      "metadata": {
        "colab": {
          "base_uri": "https://localhost:8080/",
          "height": 472
        },
        "id": "lbzosj4ioriy",
        "outputId": "62195836-16b0-4397-df89-7230624bc5c9"
      },
      "execution_count": 99,
      "outputs": [
        {
          "output_type": "display_data",
          "data": {
            "text/plain": [
              "<Figure size 640x480 with 1 Axes>"
            ],
            "image/png": "[encoded data removed]"
          },
          "metadata": {}
        }
      ]
    },
    {
      "cell_type": "markdown",
      "source": [
        "The silhouette analysis shows that the silhouette score declines sharply between\n",
        "𝑘",
        "=",
        "3 and",
        "𝑘\n",
        "=\n",
        "6\n",
        ", but it stabilizes somewhat around\n",
        "𝑘\n",
        "=\n",
        "8\n",
        " to\n",
        "𝑘\n",
        "=\n",
        "10\n",
        ", supporting that\n",
        "𝑘\n",
        "=\n",
        "10\n",
        "could be a reasonable choice for clustering"
      ],
      "metadata": {
        "id": "mrZYtOk5sCRr"
      }
    },
    {
      "cell_type": "code",
      "source": [
        "# Fit KMeans model with the chosen number of clusters\n",
        "k_optimal = 10  # Replace with the chosen optimal number of clusters\n",
        "kmeans = KMeans(n_clusters=k_optimal, random_state=0)\n",
        "data_final['Cluster'] = kmeans.fit_predict(data_final)"
      ],
      "metadata": {
        "id": "zYBsMwr4qUye"
      },
      "execution_count": 112,
      "outputs": []
    },
    {
      "cell_type": "code",
      "source": [
        "# Find Dublin's cluster\n",
        "Dublin_cluster = data_final[(data_final['state'] == '39') &\n",
        "                                         (data_final['place'] == '22694')]['Cluster'].values[0]\n",
        "print(\"Cluster for Dublin, Ohio:\")\n",
        "print(Dublin_cluster)\n",
        "\n",
        "# Filter for rows where state is 39, which is Ohio\n",
        "state_39_clusters = data_final[data_final['state'] == '39']\n",
        "\n",
        "# Count the number of entries in each cluster for state 39\n",
        "cluster_counts_state_39 = state_39_clusters['Cluster'].value_counts().sort_index()\n",
        "print(\"\\nCluster counts for Ohio:\")\n",
        "print(cluster_counts_state_39)\n",
        "\n",
        "# Count the number of entries in each cluster overall\n",
        "overall_cluster_counts = data_final['Cluster'].value_counts().sort_index()\n",
        "print(\"\\nOverall cluster counts:\")\n",
        "print(overall_cluster_counts)\n"
      ],
      "metadata": {
        "colab": {
          "base_uri": "https://localhost:8080/"
        },
        "id": "44LWRtpZX0di",
        "outputId": "67878220-d305-4d48-a928-910d6cc6a2f7"
      },
      "execution_count": 113,
      "outputs": [
        {
          "output_type": "stream",
          "name": "stdout",
          "text": [
            "Cluster for Dublin, Ohio:\n",
            "0\n",
            "\n",
            "Cluster counts for Ohio:\n",
            "Cluster\n",
            "0    1\n",
            "1    1\n",
            "3    2\n",
            "5    1\n",
            "6    1\n",
            "7    3\n",
            "9    1\n",
            "Name: count, dtype: int64\n",
            "\n",
            "Overall cluster counts:\n",
            "Cluster\n",
            "0    66\n",
            "1    39\n",
            "2    50\n",
            "3    73\n",
            "4    48\n",
            "5    56\n",
            "6    62\n",
            "7    76\n",
            "8    49\n",
            "9    45\n",
            "Name: count, dtype: int64\n"
          ]
        }
      ]
    },
    {
      "cell_type": "markdown",
      "source": [
        "We find that Dublin is in Cluster 0 along with 65 other places. Through the k-means clustering, we are able to bring down the possible sister cities to 65."
      ],
      "metadata": {
        "id": "zbVsvo36s4Qy"
      }
    },
    {
      "cell_type": "markdown",
      "source": [
        "### Analyze Dublin's Cluster"
      ],
      "metadata": {
        "id": "PqEmsWOqtT7q"
      }
    },
    {
      "cell_type": "code",
      "source": [
        "# Regions are based off of those at\n",
        "# https://www2.census.gov/geo/pdfs/maps-data/maps/reference/us_regdiv.pdf\n",
        "\n",
        "# Create a dictionary to map states to divisions\n",
        "\n",
        "states_to_division = {\n",
        "\n",
        "    'Connecticut':'New England','Maine':'New England','Massachusetts':'New England',\n",
        "    'New Hampshire':'New England','Rhode Island':'New England','Vermont':'New England',\n",
        "\n",
        "    'New Jersey': 'Middle Atlantic', 'Pennsylvania': 'Middle Atlantic','New York'\t: 'Middle Atlantic',\n",
        "\n",
        "    'Indiana': 'East North Central','Illinois': 'East North Central' ,'Michigan': 'East North Central',\n",
        "    'Ohio': 'East North Central','Wisconsin': 'East North Central',\n",
        "\n",
        "    'Iowa'\t :'West North Central','Nebraska'\t:'West North Central','Kansas' \t:'West North Central',\n",
        "    'North Dakota'\t:'West North Central','Minnesota'\t:'West North Central' ,'South Dakota'\t:'West North Central',\n",
        "    'Missouri':'West North Central',\n",
        "\n",
        "    'Delaware' :'South Atlantic', 'District of Columbia'\t:'South Atlantic',\n",
        "    'Florida' :'South Atlantic','Georgia' :'South Atlantic','Maryland' :'South Atlantic',\n",
        "    'North Carolina' :'South Atlantic','South Carolina' :'South Atlantic',\n",
        "    'Virginia' :'South Atlantic','West Virginia' :'South Atlantic',\n",
        "\n",
        "    'Alabama': 'East South Central','Kentucky': 'East South Central',\n",
        "    'Mississippi': 'East South Central','Tennessee': 'East South Central',\n",
        "\n",
        "    'Arkansas': 'West South Central', 'Louisiana': 'West South Central',\n",
        "    'Oklahoma':'West South Central','Texas':'West South Central',\n",
        "\n",
        "    'Arizona': 'Mountain', 'Colorado': 'Mountain','Idaho': 'Mountain', 'New Mexico': 'Mountain',\n",
        "    'Montana': 'Mountain', 'Utah': 'Mountain','Nevada': 'Mountain','Wyoming': 'Mountain',\n",
        "\n",
        "    'Washington': 'Pacific', 'Oregon': 'Pacific', 'California': 'Pacific','Alaska': 'Pacific', 'Hawaii': 'Pacific'}\n",
        "\n",
        "division_to_region = {\n",
        "   'New England':'Northeast','Middle Atlantic':'Northeast',\n",
        "   'East North Central': 'Midwest', 'West North Central': 'Midwest',\n",
        "   'South Atlantic': 'South', 'East South Central': 'South',  'West South Central': 'South',\n",
        "   'Mountain': 'West', 'Pacific': 'West'}"
      ],
      "metadata": {
        "id": "WDZuM5j7kOBn"
      },
      "execution_count": 64,
      "outputs": []
    },
    {
      "cell_type": "code",
      "source": [
        "# Merge place information into data_final\n",
        "filtered_census_data_df = data_final.merge(\n",
        "    place_dict_df[['place', 'state', 'City Name', 'State_Name']],\n",
        "    on=['place', 'state'],\n",
        "    how='inner'\n",
        ")\n",
        "\n",
        "# Map states to divisions and divisions to regions\n",
        "filtered_census_data_df['Division'] = filtered_census_data_df['State_Name'].map(states_to_division)\n",
        "filtered_census_data_df['Region'] = filtered_census_data_df['Division'].map(division_to_region)\n",
        "\n",
        "# Identify the target cluster for state = 39 and place = 22694\n",
        "target_cluster = filtered_census_data_df[\n",
        "    (filtered_census_data_df['state'] == '39') &\n",
        "    (filtered_census_data_df['place'] == '22694')\n",
        "]['Cluster'].values[0]\n",
        "\n",
        "# Filter for rows with the same cluster value\n",
        "cluster_subset = filtered_census_data_df[filtered_census_data_df['Cluster'] == target_cluster]\n",
        "\n",
        "# Group by State_Name, Region, and Division, and count occurrences\n",
        "grouped_counts = {\n",
        "    group_by: cluster_subset.groupby(group_by).size().reset_index(name='Count')\n",
        "    for group_by in ['State_Name', 'Region', 'Division']\n",
        "}\n",
        "\n",
        "# Access individual group count DataFrames\n",
        "counts_by_state = grouped_counts['State_Name']\n",
        "counts_by_region = grouped_counts['Region']\n",
        "counts_by_division = grouped_counts['Division']\n",
        "\n",
        "# Display the result\n",
        "print(\"Counts by State:\")\n",
        "print(counts_by_state)\n",
        "\n",
        "print(\"\\nCounts by Division:\")\n",
        "print(counts_by_division)\n",
        "\n",
        "print(\"\\nCounts by Region:\")\n",
        "print(counts_by_region)"
      ],
      "metadata": {
        "colab": {
          "base_uri": "https://localhost:8080/"
        },
        "id": "d1cVuscnkYry",
        "outputId": "d9350a5e-f06a-454a-d460-ebc3e146f06c"
      },
      "execution_count": 111,
      "outputs": [
        {
          "output_type": "stream",
          "name": "stdout",
          "text": [
            "Counts by State:\n",
            "        State_Name  Count\n",
            "0          Alabama      1\n",
            "1          Arizona      4\n",
            "2         Arkansas      2\n",
            "3       California     12\n",
            "4         Colorado      1\n",
            "5          Florida      3\n",
            "6          Georgia      1\n",
            "7           Hawaii      1\n",
            "8         Illinois      2\n",
            "9          Indiana      3\n",
            "10            Iowa      1\n",
            "11        Maryland      2\n",
            "12   Massachusetts      3\n",
            "13        Michigan      2\n",
            "14        Nebraska      1\n",
            "15          Nevada      1\n",
            "16  North Carolina      4\n",
            "17    North Dakota      1\n",
            "18            Ohio      1\n",
            "19        Oklahoma      1\n",
            "20          Oregon      1\n",
            "21       Tennessee      2\n",
            "22           Texas     10\n",
            "23            Utah      1\n",
            "24        Virginia      1\n",
            "25      Washington      2\n",
            "26       Wisconsin      2\n",
            "\n",
            "Counts by Division:\n",
            "             Division  Count\n",
            "0  East North Central     10\n",
            "1  East South Central      3\n",
            "2            Mountain      7\n",
            "3         New England      3\n",
            "4             Pacific     16\n",
            "5      South Atlantic     11\n",
            "6  West North Central      3\n",
            "7  West South Central     13\n",
            "\n",
            "Counts by Region:\n",
            "      Region  Count\n",
            "0    Midwest     13\n",
            "1  Northeast      3\n",
            "2      South     27\n",
            "3       West     23\n"
          ]
        }
      ]
    }
  ]
}
