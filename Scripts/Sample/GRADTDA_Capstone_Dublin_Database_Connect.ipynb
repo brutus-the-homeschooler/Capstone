{
  "nbformat": 4,
  "nbformat_minor": 0,
  "metadata": {
    "colab": {
      "provenance": []
    },
    "kernelspec": {
      "name": "python3",
      "display_name": "Python 3"
    },
    "language_info": {
      "name": "python"
    }
  },
  "cells": [
    {
      "cell_type": "code",
      "execution_count": null,
      "metadata": {
        "id": "-CCWN97OfaMZ"
      },
      "outputs": [],
      "source": [
        "import requests\n",
        "import sqlite3\n",
        "import pandas as pd\n",
        "\n",
        "# URL of the .db file hosted on GitHub\n",
        "db_url = \"https://raw.githubusercontent.com/brutus-the-homeschooler/Capstone/main/Database/acsse_2022.db\"\n",
        "\n",
        "# Download the .db file\n",
        "response = requests.get(db_url)\n",
        "\n",
        "# Save the .db file locally\n",
        "with open(\"acsse_2022.db\", \"wb\") as db_file:\n",
        "    db_file.write(response.content)\n",
        "\n",
        "# Connect to the SQLite database\n",
        "conn = sqlite3.connect('acsse_2022.db')\n",
        "\n",
        "# Query the 'census_data' table\n",
        "census_data_df = pd.read_sql_query(\"SELECT * FROM census_data\", conn)\n",
        "\n",
        "# Query the 'place_dictionary' table\n",
        "place_dict_df = pd.read_sql_query(\"SELECT * FROM place_dictionary\", conn)\n",
        "\n",
        "# Query the 'state_dictionary' table\n",
        "state_dict_df = pd.read_sql_query(\"SELECT * FROM state_dictionary\", conn)\n",
        "\n",
        "# Query the 'variable_dictionary' table\n",
        "variable_dict_df = pd.read_sql_query(\"SELECT * FROM variable_dictionary\", conn)\n",
        "\n",
        "# Close the connection\n",
        "conn.close()\n",
        "\n",
        "# Display data (optional)\n",
        "print(census_data_df.head())\n",
        "print(place_dict_df.head())\n",
        "print(state_dict_df.head())\n",
        "print(variable_dict_df.head())\n"
      ]
    }
  ]
}