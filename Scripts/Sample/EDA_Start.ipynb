{
  "nbformat": 4,
  "nbformat_minor": 0,
  "metadata": {
    "colab": {
      "provenance": []
    },
    "kernelspec": {
      "name": "python3",
      "display_name": "Python 3"
    },
    "language_info": {
      "name": "python"
    }
  },
  "cells": [
    {
      "cell_type": "markdown",
      "source": [
        "### Connection"
      ],
      "metadata": {
        "id": "5wl9PtIQJLCr"
      }
    },
    {
      "cell_type": "code",
      "execution_count": null,
      "metadata": {
        "id": "Q0PbgK9RIM2b"
      },
      "outputs": [],
      "source": [
        "import requests\n",
        "import sqlite3\n",
        "import pandas as pd\n",
        "\n",
        "# URL of the .db file hosted on GitHub\n",
        "db_url = \"https://raw.githubusercontent.com/brutus-the-homeschooler/Capstone/main/Database/acsse_2022.db\"\n",
        "\n",
        "# Download the .db file\n",
        "response = requests.get(db_url)\n",
        "\n",
        "# Save the .db file locally\n",
        "with open(\"acsse_2022.db\", \"wb\") as db_file:\n",
        "    db_file.write(response.content)\n",
        "\n",
        "# Connect to the SQLite database\n",
        "conn = sqlite3.connect('acsse_2022.db')\n",
        "\n",
        "# Query the 'census_data' table\n",
        "census_data_df = pd.read_sql_query(\"SELECT * FROM census_data\", conn)\n",
        "\n",
        "# Query the 'place_dictionary' table\n",
        "place_dict_df = pd.read_sql_query(\"SELECT * FROM place_dictionary\", conn)\n",
        "\n",
        "# Query the 'state_dictionary' table\n",
        "state_dict_df = pd.read_sql_query(\"SELECT * FROM state_dictionary\", conn)\n",
        "\n",
        "# Query the 'variable_dictionary' table\n",
        "variable_dict_df = pd.read_sql_query(\"SELECT * FROM variable_dictionary\", conn)\n",
        "\n",
        "# Close the connection\n",
        "conn.close()\n",
        "\n",
        "# Display data (optional)\n",
        "#print(census_data_df.head())\n",
        "#print(place_dict_df.head())\n",
        "#print(state_dict_df.head())\n",
        "#print(variable_dict_df.head())\n"
      ]
    },
    {
      "cell_type": "markdown",
      "source": [
        "### Simple EDA (complete variables, count places, count state)"
      ],
      "metadata": {
        "id": "0IxeIIQ5JFCP"
      }
    },
    {
      "cell_type": "code",
      "source": [
        "nan_counts = census_data_df.isna().sum()\n",
        "\n",
        "zero_nan_counts = nan_counts[(nan_counts.index.str.endswith('E')) & (nan_counts == 0)]\n",
        "\n",
        "# Display the count of variables that match the criteria\n",
        "count_zero_nan_all = zero_nan_counts.count()\n",
        "\n",
        "unique_states_all = census_data_df['state'].unique()\n",
        "\n",
        "# Get unique places from the filtered DataFrame\n",
        "unique_places_all = census_data_df.drop_duplicates(subset=['place', 'state'])\n",
        "\n",
        "# Display the counts of unique states and unique places\n",
        "unique_states_count_all = len(unique_states_all)\n",
        "unique_places_count_all = len(unique_places_all)\n",
        "\n",
        "print(f\"For all populations and states\")\n",
        "print(f\"Count of Complete Variables: {count_zero_nan_all}\")\n",
        "print(f\"Number of Unique States/Territories: {unique_states_count_all}\")\n",
        "print(f\"Number of Unique Places: {unique_places_count_all}\")"
      ],
      "metadata": {
        "colab": {
          "base_uri": "https://localhost:8080/"
        },
        "id": "cl7Ye8VI7PNY",
        "outputId": "bd9d81d8-d3fa-4515-cb3e-cdfd90246fe9"
      },
      "execution_count": 21,
      "outputs": [
        {
          "output_type": "stream",
          "name": "stdout",
          "text": [
            "For all populations and states\n",
            "Count of Complete Variables: 65\n",
            "Number of Unique States/Territories: 52\n",
            "Number of Unique Places: 2399\n"
          ]
        }
      ]
    },
    {
      "cell_type": "markdown",
      "source": [
        "### City of Dublin EDA"
      ],
      "metadata": {
        "id": "YP7n3ysbIvh4"
      }
    },
    {
      "cell_type": "code",
      "source": [
        "# Filter the DataFrame based on the specified range for 'K200101_001E'\n",
        "CoD_df = census_data_df[(census_data_df['state'] == \"39\") & (census_data_df['place'] == \"22694\")] # check City of Dublin, OH\n",
        "\n",
        "# Count NaNs for columns ending in 'E' within the filtered DataFrame\n",
        "CoD_nan_counts_filtered = CoD_df.isna().sum()\n",
        "\n",
        "# Filter columns ending with 'E' where NaN count is zero\n",
        "CoD_zero_nan_counts = CoD_nan_counts_filtered[(CoD_nan_counts_filtered.index.str.endswith('E')) & (CoD_nan_counts_filtered == 0)]\n",
        "\n",
        "# Display the count of variables that match the criteria\n",
        "CoD_count_zero_nan = CoD_zero_nan_counts.count()\n",
        "\n",
        "print(f\"Count of Complete Variables: {CoD_count_zero_nan}\")"
      ],
      "metadata": {
        "id": "iC9tnSKYIqy7"
      },
      "execution_count": null,
      "outputs": []
    },
    {
      "cell_type": "markdown",
      "source": [
        "291 complete variables across the data set for City of Dublin. Now we can look to see how many are reliable via the measurement of error and the CV."
      ],
      "metadata": {
        "id": "ZFGAichkIz2S"
      }
    },
    {
      "cell_type": "code",
      "source": [
        "# Identify all estimate columns (assuming they end with \"E\")\n",
        "estimate_cols = [col for col in CoD_df.columns if col.endswith(\"E\")]\n",
        "\n",
        "# Create a dictionary to store CV columns\n",
        "cv_data = {}\n",
        "\n",
        "# Calculate all CV columns\n",
        "for est_col in estimate_cols:\n",
        "    # Find columns that match the MOE pattern\n",
        "    matching_moe_cols = CoD_df.columns[CoD_df.columns.str.contains(est_col.replace(\"E\", \"M\"))]\n",
        "\n",
        "    # Check if any matching MOE column exists\n",
        "    if matching_moe_cols.empty:\n",
        "        continue  # Skip to the next estimate column\n",
        "\n",
        "    moe_col = matching_moe_cols[0]  # Use the first matching MOE column\n",
        "    cv_col = f'CV_{est_col}'\n",
        "    cv_data[cv_col] = (CoD_df[moe_col] / CoD_df[est_col]) * 100  # Calculate CV\n",
        "\n",
        "# Create a new DataFrame with the CV columns\n",
        "cv_df = pd.DataFrame(cv_data)\n",
        "\n",
        "# Concatenate the new CV DataFrame with CoD_df\n",
        "CoD_df = pd.concat([CoD_df, cv_df], axis=1)"
      ],
      "metadata": {
        "id": "MrnOWMWT7uaH"
      },
      "execution_count": 22,
      "outputs": []
    },
    {
      "cell_type": "code",
      "source": [
        "# Set your desired CV threshold\n",
        "cv_threshold = 15\n",
        "\n",
        "# Identify valid variables where CV < 15%\n",
        "valid_variables_chunk = [est_col for est_col in estimate_cols if f'CV_{est_col}' in CoD_df.columns and (CoD_df[f'CV_{est_col}'] < cv_threshold).all()]\n",
        "\n",
        "# Append valid variables to the main list\n",
        "all_valid_variables = []\n",
        "all_valid_variables.extend(valid_variables_chunk)\n",
        "\n",
        "print(f\"Count of Variables for City of Dublin with CV threshold less than {cv_threshold}: {len(all_valid_variables)}\")"
      ],
      "metadata": {
        "colab": {
          "base_uri": "https://localhost:8080/"
        },
        "id": "MjUqEueZ7zXz",
        "outputId": "bfde01c4-f37e-44a9-d4ba-5c06c2649d01"
      },
      "execution_count": 23,
      "outputs": [
        {
          "output_type": "stream",
          "name": "stdout",
          "text": [
            "Count of Variables for City of Dublin with CV threshold less than 15: 101\n"
          ]
        }
      ]
    }
  ]
}
